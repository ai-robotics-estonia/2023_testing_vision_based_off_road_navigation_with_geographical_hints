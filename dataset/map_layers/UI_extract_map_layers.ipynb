{
 "cells": [
  {
   "cell_type": "code",
   "execution_count": 4,
   "metadata": {},
   "outputs": [],
   "source": [
    "import os\n",
    "from extract_map_layers import extract_orienteering_map_data, LandBoardWMSExtractor, GoogleMapsExtractor, transform_gtiff_to_UTM"
   ]
  },
  {
   "cell_type": "code",
   "execution_count": 2,
   "metadata": {},
   "outputs": [],
   "source": [
    "orienteering_maps_folder = './map_data/orienteering/'\n",
    "landboard_maps_folder = './map_data/land_board/'       # orthophoto from WMS are written to that folder\n",
    "google_maps_folder = './map_data/google_maps/'         # orthophoto from Google Maps are written to that folder\n",
    "utm_folder = './map_data/utm/'\n",
    "\n",
    "extract_existing_layers = False"
   ]
  },
  {
   "cell_type": "code",
   "execution_count": 3,
   "metadata": {},
   "outputs": [
    {
     "name": "stdout",
     "output_type": "stream",
     "text": [
      "adjusted file: Kaiu, with scale: 0.963765\n",
      "\n",
      "Orienteering maps data\n",
      "Apteekri {'bounds': BoundingBox(left=646409.0484204607, bottom=6435863.073990527, right=648207.5619661744, top=6438166.672305804), 'crs': CRS.from_epsg(3301), 'orig_width': 2544, 'orig_height': 3419, 'orig_res': 0.6325836332882583, 'new_width': 2843, 'new_height': 3641, 'new_res': 0.6325836332882583}\n",
      "Kaiu {'bounds': BoundingBox(left=664609.5890425099, bottom=6503031.314658168, right=668194.7331633111, top=6506335.535440469), 'crs': CRS.from_epsg(3301), 'orig_width': 3938, 'orig_height': 3573, 'orig_res': 0.8434448443843444, 'new_width': 4096, 'new_height': 3775, 'new_res': 0.8751563937093417}\n"
     ]
    }
   ],
   "source": [
    "orienteering_map_dict = extract_orienteering_map_data(orienteering_maps_folder)\n",
    "\n",
    "print(\"\\nOrienteering maps data\")\n",
    "for key, item in orienteering_map_dict.items():\n",
    "    print(key, item)\n",
    "\n",
    "# write orienteering_map_dict into csv file\n",
    "\n",
    "with open('orienteering_map_dict.csv', 'w') as f:\n",
    "    for key in orienteering_map_dict.keys():\n",
    "        # orienteering_map_dict[key] is a dictionary, write it into a single line in the csv file, but unpack all the keys and values\n",
    "        f.write(\"%s,%s\\n\"%(key, \",\".join([str(x) for x in orienteering_map_dict[key].values()])))"
   ]
  },
  {
   "cell_type": "code",
   "execution_count": 10,
   "metadata": {},
   "outputs": [
    {
     "name": "stdout",
     "output_type": "stream",
     "text": [
      "extracting ortho for 2 maps\n",
      "   1. Apteekri - already exists\n",
      "   2. Kaiu - already exists\n",
      "extracting base for 2 maps\n",
      "   1. Apteekri - already exists\n",
      "   2. Kaiu - already exists\n",
      "extracting baseelev for 2 maps\n",
      "   1. Apteekri - already exists\n",
      "   2. Kaiu - already exists\n"
     ]
    }
   ],
   "source": [
    "# EXTRACT maps from ESTONIAN LAND BOARD WMS\n",
    "\n",
    "# potential wms data sources\n",
    "wms_fotokaart_ortofoto = {'appendix': 'ortho', 'url': 'https://kaart.maaamet.ee/wms/fotokaart?', 'layer': 'EESTIFOTO', 'srs': 'EPSG:3301'}\n",
    "wms_alus_ortofoto = {'appendix': 'ortho', 'url': 'https://kaart.maaamet.ee/wms/alus?', 'layer': 'of10000', 'srs': 'EPSG:3301'}\n",
    "wms_alus_põhikaart_reljefiga = {'appendix': 'baseelev', 'url': 'https://kaart.maaamet.ee/wms/alus?', 'layer': 'pohi_vv', 'srs': 'EPSG:3301'}\n",
    "wms_alus_põhikaart = {'appendix': 'base', 'url': 'https://kaart.maaamet.ee/wms/alus?', 'layer': 'pohi_vr2', 'srs': 'EPSG:3301'}\n",
    "\n",
    "wms_list = [wms_alus_ortofoto, wms_alus_põhikaart, wms_alus_põhikaart_reljefiga]\n",
    "\n",
    "for wms in wms_list:\n",
    "    wms_extractor = LandBoardWMSExtractor(wms, landboard_maps_folder, extract_existing_layers)\n",
    "    wms_extractor.extract_and_save_orthophoto_from_land_board_wms(orienteering_map_dict)"
   ]
  },
  {
   "cell_type": "code",
   "execution_count": 11,
   "metadata": {},
   "outputs": [
    {
     "name": "stdout",
     "output_type": "stream",
     "text": [
      "extracting satellite for 2 maps\n",
      "   1. Apteekri - already exists\n",
      "   2. Kaiu - already exists\n",
      "extracting roadmap for 2 maps\n",
      "   1. Apteekri - already exists\n",
      "   2. Kaiu - already exists\n",
      "extracting hybrid for 2 maps\n",
      "   1. Apteekri - already exists\n",
      "   2. Kaiu - already exists\n"
     ]
    }
   ],
   "source": [
    "# Extract maps from GOOGLE MAPS\n",
    "\n",
    "google_maps_key = \"\"\n",
    "zoom = '14'\n",
    "reduce_bbox_by_meters = 0\n",
    "\n",
    "google_satellite = {'appendix': 'satellite', 'maptype': 'satellite', 'key': google_maps_key, 'zoom': zoom}\n",
    "google_roadmap = {'appendix': 'roadmap', 'maptype': 'roadmap', 'key': google_maps_key, 'zoom': zoom}\n",
    "google_hybrid = {'appendix': 'hybrid', 'maptype': 'hybrid', 'key': google_maps_key, 'zoom': zoom}\n",
    "\n",
    "google_layers = [google_satellite, google_roadmap, google_hybrid]\n",
    "\n",
    "for google_layer in google_layers:\n",
    "    google_extractor = GoogleMapsExtractor(google_layer, google_maps_folder, extract_existing_layers, reduce_bbox_by_meters)\n",
    "    google_extractor.extract_and_save_google_maps_data(orienteering_map_dict)\n"
   ]
  },
  {
   "cell_type": "code",
   "execution_count": 17,
   "metadata": {},
   "outputs": [
    {
     "name": "stdout",
     "output_type": "stream",
     "text": [
      "./map_data/utm/Apteekri.tif transformed\n",
      "./map_data/utm/Kaiu.tif transformed\n",
      "./map_data/utm/Kaiu_base.tif transformed\n",
      "./map_data/utm/Apteekri_base.tif transformed\n",
      "./map_data/utm/Apteekri_ortho.tif transformed\n",
      "./map_data/utm/Apteekri_baseelev.tif transformed\n",
      "./map_data/utm/Kaiu_ortho.tif transformed\n",
      "./map_data/utm/Kaiu_baseelev.tif transformed\n"
     ]
    }
   ],
   "source": [
    "\n",
    "# Tansform rasters from Lest97 to ETRS89 / UTM zone 35N\n",
    "\n",
    "folders = [orienteering_maps_folder, landboard_maps_folder, google_maps_folder]\n",
    "\n",
    "for folder in folders:\n",
    "    files = os.listdir(folder)\n",
    "    for file in files:\n",
    "        if file.endswith(\".tif\"):\n",
    "            transform_gtiff_to_UTM(folder + file, utm_folder + file)\n"
   ]
  },
  {
   "cell_type": "code",
   "execution_count": null,
   "metadata": {},
   "outputs": [],
   "source": []
  }
 ],
 "metadata": {
  "kernelspec": {
   "display_name": "Python 3",
   "language": "python",
   "name": "python3"
  },
  "language_info": {
   "codemirror_mode": {
    "name": "ipython",
    "version": 3
   },
   "file_extension": ".py",
   "mimetype": "text/x-python",
   "name": "python",
   "nbconvert_exporter": "python",
   "pygments_lexer": "ipython3",
   "version": "3.8.10"
  },
  "orig_nbformat": 4
 },
 "nbformat": 4,
 "nbformat_minor": 2
}
