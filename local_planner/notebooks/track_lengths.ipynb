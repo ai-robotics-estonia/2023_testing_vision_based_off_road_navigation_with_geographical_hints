{
 "cells": [
  {
   "cell_type": "code",
   "execution_count": 1,
   "id": "70fa9924-ce06-4b35-b705-9c593a56a69d",
   "metadata": {},
   "outputs": [
    {
     "name": "stdout",
     "output_type": "stream",
     "text": [
      "/home/romet/projects/ut/milrem/waypoint_planner\n"
     ]
    }
   ],
   "source": [
    "%cd .."
   ]
  },
  {
   "cell_type": "code",
   "execution_count": 2,
   "id": "248593ab",
   "metadata": {},
   "outputs": [],
   "source": [
    "import yaml\n",
    "import tqdm.auto as tqdm\n",
    "from pathlib import Path\n",
    "\n",
    "import numpy as np\n",
    "import pandas as pd\n",
    "from collections import defaultdict \n",
    "\n",
    "from data.milrem_tracks import CLEANED_TRACKS\n",
    "from data.process_milrem import get_metadata\n",
    "\n",
    "import warnings\n",
    "warnings.filterwarnings('ignore')\n",
    "\n",
    "%load_ext autoreload\n",
    "%autoreload 2"
   ]
  },
  {
   "cell_type": "code",
   "execution_count": 3,
   "id": "85a595f1-a5be-491f-8aa7-2e9e5daa16a0",
   "metadata": {},
   "outputs": [],
   "source": [
    "def calculate_distance(df):\n",
    "    df['delta_x'] = df['camera_position_x'].diff()\n",
    "    df['delta_y'] = df['camera_position_y'].diff()\n",
    "    df['distance'] = np.sqrt(df['delta_x']**2 + df['delta_y']**2)\n",
    "    total_distance = df['distance'].dropna().sum()\n",
    "    return total_distance\n",
    "\n",
    "def calculate_gnns_distance(df):\n",
    "    df['delta_x'] = df['camera_position_x'].diff()\n",
    "    df['delta_y'] = df['camera_position_y'].diff()\n",
    "    df['distance'] = np.sqrt(df['delta_x']**2 + df['delta_y']**2)\n",
    "    total_distance = df['distance'].dropna().sum()\n",
    "    return total_distance"
   ]
  },
  {
   "cell_type": "code",
   "execution_count": 4,
   "id": "bfe81136-3c7a-4810-9486-2f7df61f4330",
   "metadata": {},
   "outputs": [
    {
     "data": {
      "application/vnd.jupyter.widget-view+json": {
       "model_id": "54ec304477214712af5ba1769473c5a6",
       "version_major": 2,
       "version_minor": 0
      },
      "text/plain": [
       "Trajectories processed:   0%|          | 0/92 [00:00<?, ?it/s]"
      ]
     },
     "metadata": {},
     "output_type": "display_data"
    },
    {
     "name": "stdout",
     "output_type": "stream",
     "text": [
      "2023-04-12-16-02-01 2561m | 2281m | 89.07%\n",
      "2023-04-13-16-50-11 3387m | 2825m | 83.42%\n",
      "2023-04-19-15-22-36 2929m | 2558m | 87.34%\n",
      "2023-04-20-17-33-33 1975m | 1806m | 91.42%\n",
      "2023-04-27-16-42-40 1676m | 1343m | 80.15%\n",
      "2023-05-03-19-07-25 1926m | 901m | 46.78%\n",
      "2023-05-03-19-07-25 1926m | 307m | 15.93%\n",
      "2023-05-04-15-58-50 2315m | 1258m | 54.36%\n",
      "2023-05-10-15-41-04 1328m | 917m | 69.07%\n",
      "2023-05-11-17-08-21 662m | 659m | 99.55%\n",
      "2023-05-17-15-30-02 625m | 385m | 61.63%\n",
      "2023-05-18-16-40-47 496m | 392m | 79.09%\n",
      "2023-05-18-16-57-00 1564m | 1365m | 87.28%\n",
      "2023-05-23-15-40-24 2355m | 1810m | 76.84%\n",
      "2023-05-25-16-33-18 2604m | 1655m | 63.56%\n",
      "2023-05-30-15-42-35 2011m | 1821m | 90.58%\n",
      "2023-06-01-18-10-55 2387m | 2076m | 86.99%\n",
      "2023-06-06-15-41-21 2815m | 249m | 8.85%\n",
      "2023-06-06-15-41-21 2815m | 1312m | 46.61%\n",
      "2023-06-08-18-50-17 975m | 813m | 83.44%\n",
      "2023-06-13-15-14-21 1089m | 252m | 23.12%\n",
      "2023-06-13-15-14-21 1089m | 216m | 19.82%\n",
      "2023-06-13-15-49-17 1983m | 212m | 10.70%\n",
      "2023-06-13-15-49-17 1983m | 103m | 5.18%\n",
      "2023-06-13-15-49-17 1983m | 1342m | 67.70%\n",
      "2023-06-30-12-11-33 4727m | 4219m | 89.26%\n",
      "2023-07-04-15-04-53 1444m | 1312m | 90.86%\n",
      "2023-07-06-12-20-35 1623m | 351m | 21.62%\n",
      "2023-07-06-12-20-35 1623m | 101m | 6.25%\n",
      "2023-07-06-12-20-35 1623m | 97m | 5.98%\n",
      "2023-07-06-12-20-35 1623m | 681m | 41.99%\n",
      "2023-07-07-13-26-44 3089m | 2779m | 89.97%\n",
      "2023-07-11-15-44-44 4080m | 3767m | 92.33%\n",
      "2023-07-13-10-42-27 3702m | 3341m | 90.25%\n",
      "2023-07-17-13-37-10 3322m | 510m | 15.35%\n",
      "2023-07-17-13-37-10 3322m | 140m | 4.21%\n",
      "2023-07-17-13-37-10 3322m | 108m | 3.25%\n",
      "2023-07-17-13-37-10 3322m | 398m | 11.99%\n",
      "2023-07-17-13-37-10 3322m | 138m | 4.15%\n",
      "2023-07-17-13-37-10 3322m | 514m | 15.49%\n",
      "2023-07-17-13-37-10 3322m | 185m | 5.58%\n",
      "2023-07-17-14-38-28 1645m | 1569m | 95.35%\n",
      "2023-07-19-13-12-11 3246m | 3047m | 93.88%\n",
      "2023-07-24-13-53-29 1444m | 809m | 56.00%\n",
      "2023-07-24-14-25-47 53m | 50m | 94.82%\n",
      "2023-07-24-14-29-06 2846m | 849m | 29.85%\n",
      "2023-07-27-14-58-24 2198m | 1456m | 66.24%\n",
      "2023-07-27-15-46-09 1228m | 1214m | 98.89%\n",
      "2023-07-27-16-12-51 325m | 321m | 98.66%\n",
      "2023-08-01-15-47-18 3527m | 3449m | 97.80%\n",
      "2023-08-08-15-40-29 3156m | 3124m | 99.00%\n",
      "2023-08-08-16-37-28 964m | 957m | 99.28%\n",
      "2023-08-09-13-44-25 5405m | 1361m | 25.18%\n",
      "2023-08-09-13-44-25 5405m | 1844m | 34.12%\n",
      "2023-08-09-14-07-47 2961m | 2956m | 99.82%\n",
      "2023-08-10-16-19-31 2517m | 2497m | 99.20%\n",
      "2023-08-17-16-16-29 3466m | 3455m | 99.68%\n",
      "2023-08-23-15-04-12 431m | 430m | 99.83%\n",
      "2023-08-23-15-12-38 294m | 294m | 99.83%\n",
      "2023-08-23-15-17-22 154m | 154m | 99.65%\n",
      "2023-08-23-15-21-21 257m | 256m | 99.75%\n",
      "2023-08-23-15-26-38 1215m | 1206m | 99.27%\n",
      "2023-08-23-15-57-55 330m | 328m | 99.47%\n",
      "2023-08-24-16-09-18 3032m | 1545m | 50.96%\n",
      "2023-08-25-15-48-47 3687m | 3660m | 99.28%\n"
     ]
    }
   ],
   "source": [
    "POSITIONAL_TOLERANCE = 2.0\n",
    "\n",
    "def def_value(): \n",
    "    return {'unclean': 0.0, 'clean': 0.0} \n",
    "\n",
    "stats = defaultdict(def_value)\n",
    "for track in tqdm.tqdm(CLEANED_TRACKS, desc=\"Trajectories processed\"):\n",
    "    if track[2] == 'train':\n",
    "        track_path = Path(\"/home/romet/data2/datasets/extracted_datasets\") / track[0]\n",
    "        data_range = track[1]\n",
    "        \n",
    "        raw_metadata = pd.read_csv(track_path / 'csv/extracted_data.csv')\n",
    "        raw_metadata.sort_values(by=[\"timestamp\"], inplace=True)\n",
    "        raw_metadata.reset_index(inplace=True)\n",
    "        filtered_data = raw_metadata.dropna(subset=['camera_position_x', 'camera_position_y', 'camera_position_z']).copy()\n",
    "    \n",
    "        filtered_data['diff_x'] = filtered_data['camera_position_x'].diff().abs()\n",
    "        filtered_data['diff_y'] = filtered_data['camera_position_y'].diff().abs()\n",
    "        filtered_data['diff_z'] = filtered_data['camera_position_z'].diff().abs()\n",
    "    \n",
    "        filtered_metadata = filtered_data[(filtered_data['diff_x'] < POSITIONAL_TOLERANCE) &\n",
    "                                     (filtered_data['diff_y'] < POSITIONAL_TOLERANCE) &\n",
    "                                     (filtered_data['diff_z'] < POSITIONAL_TOLERANCE)]\n",
    "        \n",
    "        raw_len = calculate_distance(filtered_metadata)\n",
    "    \n",
    "        cleaned_metadata = get_metadata(track_path, data_range)\n",
    "        cleaned_len = calculate_distance(cleaned_metadata)\n",
    "        percentage = (cleaned_len / raw_len) * 100\n",
    "        \n",
    "        track_stat = stats[track[0]]\n",
    "        track_stat['unclean'] = raw_len\n",
    "        track_stat['clean'] += cleaned_len\n",
    "        print(f\"{track[0]} {raw_len:.0f}m | {cleaned_len:.0f}m | {percentage:.2f}%\")"
   ]
  },
  {
   "cell_type": "code",
   "execution_count": 5,
   "id": "95628fee",
   "metadata": {},
   "outputs": [
    {
     "name": "stdout",
     "output_type": "stream",
     "text": [
      "track name          | uncleaned | cleaned | percentage\n",
      "------------------------------------------------------\n",
      "2023-04-12-16-02-01 |   2561m   |   2281m | 89.07%\n",
      "2023-04-13-16-50-11 |   3387m   |   2825m | 83.42%\n",
      "2023-04-19-15-22-36 |   2929m   |   2558m | 87.34%\n",
      "2023-04-20-17-33-33 |   1975m   |   1806m | 91.42%\n",
      "2023-04-27-16-42-40 |   1676m   |   1343m | 80.15%\n",
      "2023-05-03-19-07-25 |   1926m   |   1208m | 62.71%\n",
      "2023-05-04-15-58-50 |   2315m   |   1258m | 54.36%\n",
      "2023-05-10-15-41-04 |   1328m   |    917m | 69.07%\n",
      "2023-05-11-17-08-21 |    662m   |    659m | 99.55%\n",
      "2023-05-17-15-30-02 |    625m   |    385m | 61.63%\n",
      "2023-05-18-16-40-47 |    496m   |    392m | 79.09%\n",
      "2023-05-18-16-57-00 |   1564m   |   1365m | 87.28%\n",
      "2023-05-23-15-40-24 |   2355m   |   1810m | 76.84%\n",
      "2023-05-25-16-33-18 |   2604m   |   1655m | 63.56%\n",
      "2023-05-30-15-42-35 |   2011m   |   1821m | 90.58%\n",
      "2023-06-01-18-10-55 |   2387m   |   2076m | 86.99%\n",
      "2023-06-06-15-41-21 |   2815m   |   1561m | 55.45%\n",
      "2023-06-08-18-50-17 |    975m   |    813m | 83.44%\n",
      "2023-06-13-15-14-21 |   1089m   |    468m | 42.95%\n",
      "2023-06-13-15-49-17 |   1983m   |   1657m | 83.59%\n",
      "2023-06-30-12-11-33 |   4727m   |   4219m | 89.26%\n",
      "2023-07-04-15-04-53 |   1444m   |   1312m | 90.86%\n",
      "2023-07-06-12-20-35 |   1623m   |   1231m | 75.84%\n",
      "2023-07-07-13-26-44 |   3089m   |   2779m | 89.97%\n",
      "2023-07-11-15-44-44 |   4080m   |   3767m | 92.33%\n",
      "2023-07-13-10-42-27 |   3702m   |   3341m | 90.25%\n",
      "2023-07-17-13-37-10 |   3322m   |   1994m | 60.02%\n",
      "2023-07-17-14-38-28 |   1645m   |   1569m | 95.35%\n",
      "2023-07-19-13-12-11 |   3246m   |   3047m | 93.88%\n",
      "2023-07-24-13-53-29 |   1444m   |    809m | 56.00%\n",
      "2023-07-24-14-25-47 |     53m   |     50m | 94.82%\n",
      "2023-07-24-14-29-06 |   2846m   |    849m | 29.85%\n",
      "2023-07-27-14-58-24 |   2198m   |   1456m | 66.24%\n",
      "2023-07-27-15-46-09 |   1228m   |   1214m | 98.89%\n",
      "2023-07-27-16-12-51 |    325m   |    321m | 98.66%\n",
      "2023-08-01-15-47-18 |   3527m   |   3449m | 97.80%\n",
      "2023-08-08-15-40-29 |   3156m   |   3124m | 99.00%\n",
      "2023-08-08-16-37-28 |    964m   |    957m | 99.28%\n",
      "2023-08-09-13-44-25 |   5405m   |   3205m | 59.29%\n",
      "2023-08-09-14-07-47 |   2961m   |   2956m | 99.82%\n",
      "2023-08-10-16-19-31 |   2517m   |   2497m | 99.20%\n",
      "2023-08-17-16-16-29 |   3466m   |   3455m | 99.68%\n",
      "2023-08-23-15-04-12 |    431m   |    430m | 99.83%\n",
      "2023-08-23-15-12-38 |    294m   |    294m | 99.83%\n",
      "2023-08-23-15-17-22 |    154m   |    154m | 99.65%\n",
      "2023-08-23-15-21-21 |    257m   |    256m | 99.75%\n",
      "2023-08-23-15-26-38 |   1215m   |   1206m | 99.27%\n",
      "2023-08-23-15-57-55 |    330m   |    328m | 99.47%\n",
      "2023-08-24-16-09-18 |   3032m   |   1545m | 50.96%\n",
      "2023-08-25-15-48-47 |   3687m   |   3660m | 99.28%\n",
      "------------------------------------------------------\n",
      "Total               | 104030m   |  84335m | 81.07%\n"
     ]
    }
   ],
   "source": [
    "total_clean = 0.0\n",
    "total_unclean = 0.0\n",
    "\n",
    "print(\"track name          | uncleaned | cleaned | percentage\")\n",
    "print(\"------------------------------------------------------\")\n",
    "for track, track_stats in stats.items():\n",
    "    clean = track_stats['clean']\n",
    "    unclean = track_stats['unclean']\n",
    "    percentage = (clean / unclean) * 100\n",
    "    print(f\"{track} | {unclean:6.0f}m   | {clean:6.0f}m | {percentage:3.2f}%\")\n",
    "\n",
    "    total_clean += clean\n",
    "    total_unclean += unclean\n",
    "\n",
    "print(\"------------------------------------------------------\")\n",
    "total_percentage = (total_clean / total_unclean) * 100\n",
    "print(f\"Total               | {total_unclean:6.0f}m   | {total_clean:6.0f}m | {total_percentage:3.2f}%\")"
   ]
  },
  {
   "cell_type": "code",
   "execution_count": 6,
   "id": "428c726f-abc1-4879-86af-83701f4c784d",
   "metadata": {},
   "outputs": [],
   "source": [
    "track_path = Path(\"/home/romet/data2/datasets/extracted_datasets\") / \"2023-08-25-15-48-47\"\n",
    "raw_metadata = pd.read_csv(track_path / 'csv/extracted_data.csv')"
   ]
  },
  {
   "cell_type": "code",
   "execution_count": 7,
   "id": "d7c9c696-94e1-44da-93da-616486bd6865",
   "metadata": {},
   "outputs": [
    {
     "data": {
      "text/plain": [
       "0.10685538201970732"
      ]
     },
     "execution_count": 7,
     "metadata": {},
     "output_type": "execute_result"
    }
   ],
   "source": [
    "9120/85349"
   ]
  },
  {
   "cell_type": "code",
   "execution_count": 8,
   "id": "b7ada72d-5ff2-44cf-b310-8b081f2b64bb",
   "metadata": {},
   "outputs": [
    {
     "ename": "SyntaxError",
     "evalue": "invalid syntax (3832540540.py, line 1)",
     "output_type": "error",
     "traceback": [
      "\u001B[0;36m  Cell \u001B[0;32mIn[8], line 1\u001B[0;36m\u001B[0m\n\u001B[0;31m    Total               |  65798m   |   9120m | 13.86%\u001B[0m\n\u001B[0m                                ^\u001B[0m\n\u001B[0;31mSyntaxError\u001B[0m\u001B[0;31m:\u001B[0m invalid syntax\n"
     ]
    }
   ],
   "source": [
    "Total               |  65798m   |   9120m | 13.86%"
   ]
  }
 ],
 "metadata": {
  "kernelspec": {
   "display_name": "Python 3 (ipykernel)",
   "language": "python",
   "name": "python3"
  },
  "language_info": {
   "codemirror_mode": {
    "name": "ipython",
    "version": 3
   },
   "file_extension": ".py",
   "mimetype": "text/x-python",
   "name": "python",
   "nbconvert_exporter": "python",
   "pygments_lexer": "ipython3",
   "version": "3.9.16"
  }
 },
 "nbformat": 4,
 "nbformat_minor": 5
}