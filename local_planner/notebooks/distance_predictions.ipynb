{
 "cells": [
  {
   "cell_type": "code",
   "execution_count": 1,
   "id": "80a08443-5123-486d-bd1d-8178d81043c2",
   "metadata": {},
   "outputs": [
    {
     "name": "stdout",
     "output_type": "stream",
     "text": [
      "/home/romet/projects/ut/milrem/waypoint_planner\n"
     ]
    }
   ],
   "source": [
    "%cd .."
   ]
  },
  {
   "cell_type": "code",
   "execution_count": 2,
   "id": "8548b535-4222-4847-a966-f0d2e11057b0",
   "metadata": {},
   "outputs": [],
   "source": [
    "import cv2\n",
    "import yaml\n",
    "from pathlib import Path\n",
    "import matplotlib.pyplot as plt\n",
    "\n",
    "from viz.gnm_visualizer import GNMVisualizer\n",
    "from viz.nomad_visualizer import NomadVisualizer\n",
    "\n",
    "from data.dataset import MilremVizDataset\n",
    "\n",
    "from model.util import load_model\n",
    "\n",
    "from ipywidgets import interact, interactive, fixed, interact_manual\n",
    "import ipywidgets as widgets\n",
    "\n",
    "from viz.base_visualizer import BaseVisualizer, GREEN, RED\n",
    "from viz.util_camera import to_camera_frame"
   ]
  },
  {
   "cell_type": "code",
   "execution_count": 3,
   "id": "b82e5ce9-9fd5-4e54-9f3c-7fbf2b04a981",
   "metadata": {},
   "outputs": [],
   "source": [
    "model_type = 'vint'\n",
    "\n",
    "# GNM\n",
    "if model_type == 'gnm':\n",
    "    model_config = \"config/gnm.yaml\"\n",
    "    model_path = \"/home/romet/projects/ut/milrem/waypoint_planner/model_weights/gnm_large.pth\"\n",
    "    viz = GNMVisualizer(False)\n",
    "\n",
    "# GNM finetuned\n",
    "if model_type == 'gnm-finetuned':\n",
    "    model_config = \"config/gnm.yaml\"\n",
    "    model_path = \"/home/romet/projects/ut/milrem/models/gnm-finetuned.ckpt\"\n",
    "    viz = GNMVisualizer(False)\n",
    "\n",
    "if model_type == 'vint':\n",
    "    model_config = \"config/vint.yaml\"\n",
    "    model_path = \"/home/romet/projects/ut/milrem/models/vint.pth\"\n",
    "    viz = GNMVisualizer(False)\n",
    "\n",
    "if model_type == 'nomad':\n",
    "    model_config = \"config/nomad.yaml\"\n",
    "    model_path = \"/home/romet/projects/ut/milrem/models/nomad.pth\"\n",
    "    viz = NomadVisualizer(False)\n"
   ]
  },
  {
   "cell_type": "code",
   "execution_count": 4,
   "id": "d72287fb-39c4-42c0-a479-664fb0ffcd09",
   "metadata": {},
   "outputs": [
    {
     "name": "stderr",
     "output_type": "stream",
     "text": [
      "/home/romet/miniconda3/envs/milrem-aire22/lib/python3.9/site-packages/torch/nn/modules/transformer.py:282: UserWarning: enable_nested_tensor is True, but self.use_nested_tensor is False because encoder_layer.norm_first was True\n",
      "  warnings.warn(f\"enable_nested_tensor is True, but self.use_nested_tensor is False because {why_not_sparsity_fast_path}\")\n"
     ]
    }
   ],
   "source": [
    "with open(model_config, 'r') as file:\n",
    "    config = yaml.safe_load(file)\n",
    "\n",
    "model = load_model(model_path, config)\n",
    "model.eval();"
   ]
  },
  {
   "cell_type": "code",
   "execution_count": 5,
   "id": "9efc2584-ba2c-43a5-9f01-b6dfdc05e3d2",
   "metadata": {},
   "outputs": [],
   "source": [
    "dataset_path = Path(\"/home/romet/projects/ut/milrem/test-data/2023-07-28-14-08-06\")\n",
    "dataset = MilremVizDataset(dataset_path, **config)"
   ]
  },
  {
   "cell_type": "code",
   "execution_count": 7,
   "id": "18a13019-77cd-4d54-a4bf-8206905f69ad",
   "metadata": {},
   "outputs": [
    {
     "data": {
      "application/vnd.jupyter.widget-view+json": {
       "model_id": "b59a2e4c2354457aa3d718822177173b",
       "version_major": 2,
       "version_minor": 0
      },
      "text/plain": [
       "interactive(children=(IntSlider(value=0, description='frame_id', max=2338), IntSlider(value=0, description='go…"
      ]
     },
     "metadata": {},
     "output_type": "display_data"
    }
   ],
   "source": [
    "frame_id_slider = widgets.IntSlider(min=0, max=len(dataset), step=1, value=0, continuous_update=True)\n",
    "goal_id_slider = widgets.IntSlider(min=0, max=180, step=1, value=0, continuous_update=True)\n",
    "@interact(frame_id=frame_id_slider, goal_id=goal_id_slider)\n",
    "def draw_predictions(frame_id, goal_id):\n",
    "    obs_tensor, _, labels, data, obs_img, _ = dataset[frame_id]\n",
    "    rectified_image = viz.rectify_image(obs_img)\n",
    "\n",
    "    last_obs_tensor, _, _, last_data, waypoint_img, _ = dataset[frame_id + goal_id]\n",
    "    waypoint_tensor = last_obs_tensor[-3:]\n",
    "    data[\"wp_idx\"] = last_data[\"idx\"]\n",
    "\n",
    "    if model_type == 'nomad':\n",
    "        predictions = model(obs_tensor.unsqueeze(dim=0), waypoint_tensor.unsqueeze(dim=0), True)\n",
    "    else:\n",
    "        predictions = model(obs_tensor.unsqueeze(dim=0), waypoint_tensor.unsqueeze(dim=0))\n",
    "    \n",
    "    predicted_actions = predictions[1].squeeze().detach().numpy()\n",
    "    predicted_dist = predictions[0][0].item()\n",
    "\n",
    "    print(predicted_actions.shape)\n",
    "    \n",
    "    to_camera_frame(rectified_image, labels[0], GREEN)\n",
    "    if model_type == 'nomad':\n",
    "        for i in range(len(predicted_actions)):\n",
    "            to_camera_frame(rectified_image, predicted_actions[i], RED)\n",
    "    else:\n",
    "        to_camera_frame(rectified_image, predicted_actions, RED)\n",
    "    viz.draw_info_overlay(rectified_image, data, predicted_dist)\n",
    "    viz.draw_top_town_overlay(rectified_image, None, predicted_actions.squeeze(), labels[0])\n",
    "    viz.draw_waypoint_img(rectified_image, waypoint_img)\n",
    "\n",
    "    rectified_image = cv2.cvtColor(rectified_image, cv2.COLOR_BGR2RGB)\n",
    "    plt.figure(figsize=(12, 12))\n",
    "    plt.imshow(rectified_image);"
   ]
  },
  {
   "cell_type": "code",
   "execution_count": null,
   "id": "6683a9f2-f2e4-4f7e-bcdf-b0fa2d72b7fe",
   "metadata": {},
   "outputs": [],
   "source": []
  }
 ],
 "metadata": {
  "kernelspec": {
   "display_name": "Python 3 (ipykernel)",
   "language": "python",
   "name": "python3"
  },
  "language_info": {
   "codemirror_mode": {
    "name": "ipython",
    "version": 3
   },
   "file_extension": ".py",
   "mimetype": "text/x-python",
   "name": "python",
   "nbconvert_exporter": "python",
   "pygments_lexer": "ipython3",
   "version": "3.9.16"
  }
 },
 "nbformat": 4,
 "nbformat_minor": 5
}